{
  "nbformat": 4,
  "nbformat_minor": 0,
  "metadata": {
    "colab": {
      "provenance": [],
      "authorship_tag": "ABX9TyNanXdztqHyB4LpLWIjLtvC",
      "include_colab_link": true
    },
    "kernelspec": {
      "name": "python3",
      "display_name": "Python 3"
    },
    "language_info": {
      "name": "python"
    }
  },
  "cells": [
    {
      "cell_type": "markdown",
      "metadata": {
        "id": "view-in-github",
        "colab_type": "text"
      },
      "source": [
        "<a href=\"https://colab.research.google.com/github/rkbo07/cast/blob/main/practice4_03.ipynb\" target=\"_parent\"><img src=\"https://colab.research.google.com/assets/colab-badge.svg\" alt=\"Open In Colab\"/></a>"
      ]
    },
    {
      "cell_type": "code",
      "execution_count": null,
      "metadata": {
        "colab": {
          "base_uri": "https://localhost:8080/"
        },
        "id": "eqM1KOjza8sB",
        "outputId": "8c0f6171-75c5-448e-8e67-68da207f2f54"
      },
      "outputs": [
        {
          "output_type": "stream",
          "name": "stdout",
          "text": [
            "arrayA is \n",
            "[1, 2, 3, 4, 5, 6, 7, 8, 9]\n",
            "\n",
            "arrayB is \n",
            "[[1 2 3]\n",
            " [4 5 6]\n",
            " [7 8 9]]\n",
            "\n",
            "arrayAp is \n",
            "[[1 2 3]\n",
            " [4 5 6]\n",
            " [7 8 9]]\n",
            "\n",
            "multiplication array is \n",
            "[[ 30  36  42]\n",
            " [ 66  81  96]\n",
            " [102 126 150]]\n"
          ]
        }
      ],
      "source": [
        "import numpy as np\n",
        "\n",
        "arrayA = [1, 2, 3, 4, 5, 6, 7, 8, 9]\n",
        "arrayB = [[1, 2, 3], [4, 5, 6], [7, 8, 9]]\n",
        "\n",
        "print(\"arrayA is \")\n",
        "print(arrayA)\n",
        "print(\"\")\n",
        "print(\"arrayB is \")\n",
        "print(np.array(arrayB))\n",
        "\n",
        "print(\"\")\n",
        "arrayAp = np.reshape(arrayA, (3, 3))\n",
        "print(\"arrayAp is \")\n",
        "print(arrayAp)\n",
        "print(\"\")\n",
        "print(\"multiplication array is \")\n",
        "print(np.dot(arrayAp, arrayB))"
      ]
    }
  ]
}